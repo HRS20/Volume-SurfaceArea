{
 "cells": [
  {
   "cell_type": "code",
   "execution_count": 64,
   "metadata": {},
   "outputs": [
    {
     "name": "stdout",
     "output_type": "stream",
     "text": [
      "Select the option you are interested in: \n",
      "Option 1 : Cube\n",
      "Option 2 : Cuboid\n",
      "Option 3 : Sphere\n",
      "Option 4 : Cylinder\n",
      "\n",
      "Please input your option: 1\n",
      "Enter length: 3.387152\n",
      "The Surface Area of Cube is 68.84cm²\n",
      "The Volume of Cube is 38.86cm³\n"
     ]
    }
   ],
   "source": [
    "import math\n",
    "\n",
    "print('Select the option you are interested in: ')\n",
    "print('Option 1 : Cube\\nOption 2 : Cuboid\\nOption 3 : Sphere\\nOption 4 : Cylinder\\n')\n",
    "option=int(input('Please input your option: '))\n",
    "\n",
    "if option==1:\n",
    "    shape='Cube'\n",
    "elif option==2:\n",
    "    shape='Cuboid'\n",
    "elif option==3:\n",
    "    shape='Sphere'\n",
    "else:\n",
    "    shape='Cylinder'\n",
    "\n",
    "\n",
    "class Box:\n",
    "        \n",
    "    def __init__(self,length=None,breadth=None,height=None,radius=None):\n",
    "        self.length=length\n",
    "        self.breadth=breadth\n",
    "        self.height=height\n",
    "        self.radius=radius\n",
    "        \n",
    "    def surfaceArea(self):\n",
    "        if shape=='Cube':\n",
    "            return 6*(self.length)**2\n",
    "        elif shape=='Cuboid':\n",
    "            return 2*(self.length*self.breadth+self.breadth*self.height+self.height*self.length)\n",
    "        elif shape=='Sphere':\n",
    "            return 4*(math.pi)*(self.radius)**2\n",
    "        elif shape=='Cylinder': \n",
    "            return 2*math.pi*self.radius*(self.height+self.radius)\n",
    "        \n",
    "            \n",
    "    def volume(self):\n",
    "        if shape=='Cube':\n",
    "            return (self.length)**3\n",
    "        elif shape=='Cuboid':\n",
    "            return self.length*self.breadth*self.height\n",
    "        elif shape=='Sphere':\n",
    "            return (4/3)*math.pi*(self.radius)**3\n",
    "        elif shape=='Cylinder':\n",
    "            return math.pi*(self.radius)**2*self.height\n",
    "        \n",
    "def solution():\n",
    "    x=round(calculate.surfaceArea(),2)\n",
    "    y=round(calculate.volume(),2)\n",
    "    print('The Surface Area of {} is {}cm\\u00b2'.format(shape,x))\n",
    "    print('The Volume of {} is {}cm\\u00b3'.format(shape,y))    \n",
    "        \n",
    "if shape=='Cuboid':\n",
    "    calculate=Box(float(input('Enter length: ')),float(input('Enter width: ')),float(input('Enter height: ')),None)\n",
    "    solution()\n",
    "elif shape=='Cube':\n",
    "    calculate=Box(float(input('Enter length: ')),None,None,None)\n",
    "    solution()\n",
    "    \n",
    "elif shape=='Sphere':\n",
    "    calculate=Box(None,None,None,float(input('Enter radius: ')))\n",
    "    solution()\n",
    "else:\n",
    "    calculate=Box(None,None,float(input('Enter height: ')),float(input('Enter radius: ')))\n",
    "    solution()\n",
    "    "
   ]
  },
  {
   "cell_type": "code",
   "execution_count": null,
   "metadata": {},
   "outputs": [],
   "source": []
  },
  {
   "cell_type": "code",
   "execution_count": null,
   "metadata": {},
   "outputs": [],
   "source": []
  }
 ],
 "metadata": {
  "kernelspec": {
   "display_name": "Python 3",
   "language": "python",
   "name": "python3"
  },
  "language_info": {
   "codemirror_mode": {
    "name": "ipython",
    "version": 3
   },
   "file_extension": ".py",
   "mimetype": "text/x-python",
   "name": "python",
   "nbconvert_exporter": "python",
   "pygments_lexer": "ipython3",
   "version": "3.7.4"
  }
 },
 "nbformat": 4,
 "nbformat_minor": 2
}
